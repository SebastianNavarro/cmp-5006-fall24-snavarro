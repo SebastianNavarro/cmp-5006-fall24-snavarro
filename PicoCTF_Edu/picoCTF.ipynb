{
 "cells": [
  {
   "cell_type": "markdown",
   "metadata": {},
   "source": [
    "# PicoCTF - Eduardo Guerrero A. 00326712 #"
   ]
  },
  {
   "cell_type": "markdown",
   "metadata": {},
   "source": [
    "# Interencdec #"
   ]
  },
  {
   "cell_type": "markdown",
   "metadata": {},
   "source": [
    "## First Way ##"
   ]
  },
  {
   "cell_type": "code",
   "execution_count": 1,
   "metadata": {},
   "outputs": [],
   "source": [
    "import base64\n",
    "from collections import Counter\n",
    "import string"
   ]
  },
  {
   "cell_type": "code",
   "execution_count": 2,
   "metadata": {},
   "outputs": [],
   "source": [
    "cpt = \"YidkM0JxZGtwQlRYdHFhR3g2YUhsZmF6TnFlVGwzWVROclgya3lNRFJvYTJvMmZRPT0nCg==\""
   ]
  },
  {
   "cell_type": "markdown",
   "metadata": {},
   "source": [
    "The use of UpperCase and lowercase letters and numbers suggest this might be a base 62, however, since this base is not really common, its better to try with base 64 first."
   ]
  },
  {
   "cell_type": "code",
   "execution_count": 3,
   "metadata": {},
   "outputs": [
    {
     "name": "stdout",
     "output_type": "stream",
     "text": [
      "b'd3BqdkpBTXtqaGx6aHlfazNqeTl3YTNrX2kyMDRoa2o2fQ=='\n",
      "\n"
     ]
    }
   ],
   "source": [
    "plt = base64.b64decode(cpt).decode('utf-8')\n",
    "print(plt)"
   ]
  },
  {
   "cell_type": "markdown",
   "metadata": {},
   "source": [
    "The message we get seems to still be in base 64, considering we still have uppercase and lowercase letters and numbers. This time we have a full text inside aphostrophes, so we'll ignore the \"b\" at the beginning."
   ]
  },
  {
   "cell_type": "code",
   "execution_count": 4,
   "metadata": {},
   "outputs": [
    {
     "data": {
      "text/plain": [
       "'d3BqdkpBTXtqaGx6aHlfazNqeTl3YTNrX2kyMDRoa2o2fQ=='"
      ]
     },
     "execution_count": 4,
     "metadata": {},
     "output_type": "execute_result"
    }
   ],
   "source": [
    "cpt2 = plt.strip()[2:-1]\n",
    "cpt2"
   ]
  },
  {
   "cell_type": "code",
   "execution_count": 5,
   "metadata": {},
   "outputs": [
    {
     "name": "stdout",
     "output_type": "stream",
     "text": [
      "wpjvJAM{jhlzhy_k3jy9wa3k_i204hkj6}\n"
     ]
    }
   ],
   "source": [
    "plt2 = base64.b64decode(cpt2).decode('utf-8')\n",
    "print(plt2)"
   ]
  },
  {
   "cell_type": "markdown",
   "metadata": {},
   "source": [
    "Since the format of the flag has the key inside \"{ }\", we can guess this is the format of the picoFlag, next, considering the hint said \"Engaging in various decoding processes is of utmost importance\", we'll try a new decoding process, the ceaser cipher."
   ]
  },
  {
   "cell_type": "code",
   "execution_count": 6,
   "metadata": {},
   "outputs": [],
   "source": [
    "def caesar_decipher(ciphertext):\n",
    "    def shift_char(char, shift):\n",
    "        if char.isalpha():\n",
    "            # Determine the case\n",
    "            start = ord('A') if char.isupper() else ord('a')\n",
    "            # Apply shift\n",
    "            return chr((ord(char) - start - shift) % 26 + start)\n",
    "        else:\n",
    "            # Keep non-alphabetic characters unchanged\n",
    "            return char\n",
    "\n",
    "    # Print all 26 possible shifts\n",
    "    for shift in range(26):\n",
    "        plaintext = ''.join(shift_char(char, shift) for char in ciphertext)\n",
    "        print(f\"Shift {shift}: {plaintext}\")"
   ]
  },
  {
   "cell_type": "code",
   "execution_count": 7,
   "metadata": {},
   "outputs": [
    {
     "name": "stdout",
     "output_type": "stream",
     "text": [
      "Shift 0: wpjvJAM{jhlzhy_k3jy9wa3k_i204hkj6}\n",
      "Shift 1: voiuIZL{igkygx_j3ix9vz3j_h204gji6}\n",
      "Shift 2: unhtHYK{hfjxfw_i3hw9uy3i_g204fih6}\n",
      "Shift 3: tmgsGXJ{geiwev_h3gv9tx3h_f204ehg6}\n",
      "Shift 4: slfrFWI{fdhvdu_g3fu9sw3g_e204dgf6}\n",
      "Shift 5: rkeqEVH{ecguct_f3et9rv3f_d204cfe6}\n",
      "Shift 6: qjdpDUG{dbftbs_e3ds9qu3e_c204bed6}\n",
      "Shift 7: picoCTF{caesar_d3cr9pt3d_b204adc6}\n",
      "Shift 8: ohbnBSE{bzdrzq_c3bq9os3c_a204zcb6}\n",
      "Shift 9: ngamARD{aycqyp_b3ap9nr3b_z204yba6}\n",
      "Shift 10: mfzlZQC{zxbpxo_a3zo9mq3a_y204xaz6}\n",
      "Shift 11: leykYPB{ywaown_z3yn9lp3z_x204wzy6}\n",
      "Shift 12: kdxjXOA{xvznvm_y3xm9ko3y_w204vyx6}\n",
      "Shift 13: jcwiWNZ{wuymul_x3wl9jn3x_v204uxw6}\n",
      "Shift 14: ibvhVMY{vtxltk_w3vk9im3w_u204twv6}\n",
      "Shift 15: haugULX{uswksj_v3uj9hl3v_t204svu6}\n",
      "Shift 16: gztfTKW{trvjri_u3ti9gk3u_s204rut6}\n",
      "Shift 17: fyseSJV{squiqh_t3sh9fj3t_r204qts6}\n",
      "Shift 18: exrdRIU{rpthpg_s3rg9ei3s_q204psr6}\n",
      "Shift 19: dwqcQHT{qosgof_r3qf9dh3r_p204orq6}\n",
      "Shift 20: cvpbPGS{pnrfne_q3pe9cg3q_o204nqp6}\n",
      "Shift 21: buoaOFR{omqemd_p3od9bf3p_n204mpo6}\n",
      "Shift 22: atnzNEQ{nlpdlc_o3nc9ae3o_m204lon6}\n",
      "Shift 23: zsmyMDP{mkockb_n3mb9zd3n_l204knm6}\n",
      "Shift 24: yrlxLCO{ljnbja_m3la9yc3m_k204jml6}\n",
      "Shift 25: xqkwKBN{kimaiz_l3kz9xb3l_j204ilk6}\n"
     ]
    }
   ],
   "source": [
    "caesar_decipher(plt2)"
   ]
  },
  {
   "cell_type": "markdown",
   "metadata": {},
   "source": [
    "We find that shift 7 is the right one. picoCTF{caesar_d3cr9pt3d_b204adc6}"
   ]
  },
  {
   "cell_type": "markdown",
   "metadata": {},
   "source": [
    "## Second Way ##"
   ]
  },
  {
   "cell_type": "markdown",
   "metadata": {},
   "source": [
    "We use the website at https://www.base64decode.org to decode the message the first two times"
   ]
  },
  {
   "cell_type": "markdown",
   "metadata": {},
   "source": [
    "![](interendec_d1.png)\n",
    "\n",
    "Here we can see what would've happened had we not remove the \"b\" before the aphostrophes\n",
    "\n",
    "![](interendec_d2.png)\n",
    "\n",
    "And the result with the correct text\n",
    "\n",
    "![](interendec_d3.png)"
   ]
  },
  {
   "cell_type": "markdown",
   "metadata": {},
   "source": [
    "Knowing that w maps to p, since the plaintext starts with \"picoCTF\" and the format of the cipher text is the same as the plaintext, we can find the value of the shift."
   ]
  },
  {
   "cell_type": "code",
   "execution_count": 8,
   "metadata": {},
   "outputs": [
    {
     "data": {
      "text/plain": [
       "7"
      ]
     },
     "execution_count": 8,
     "metadata": {},
     "output_type": "execute_result"
    }
   ],
   "source": [
    "shift = ord('w') - ord('p') \n",
    "shift"
   ]
  },
  {
   "cell_type": "code",
   "execution_count": 9,
   "metadata": {},
   "outputs": [],
   "source": [
    "def caesar_decipher(ciphertext):\n",
    "    def shift_char(char):\n",
    "        if char.isalpha():\n",
    "            # Determine the case\n",
    "            start = ord('A') if char.isupper() else ord('a')\n",
    "            # Apply shift\n",
    "            return chr((ord(char) - start - 7) % 26 + start)\n",
    "        else:\n",
    "            # Keep non-alphabetic characters unchanged\n",
    "            return char\n",
    "    plaintext = ''.join(shift_char(char) for char in ciphertext)\n",
    "    print(f\"{plaintext}\")"
   ]
  },
  {
   "cell_type": "code",
   "execution_count": 10,
   "metadata": {},
   "outputs": [
    {
     "name": "stdout",
     "output_type": "stream",
     "text": [
      "picoCTF{caesar_d3cr9pt3d_b204adc6}\n"
     ]
    }
   ],
   "source": [
    "cpt = \"wpjvJAM{jhlzhy_k3jy9wa3k_i204hkj6}\"\n",
    "plt = caesar_decipher(cpt)"
   ]
  },
  {
   "cell_type": "markdown",
   "metadata": {},
   "source": [
    "# The Numbers #"
   ]
  },
  {
   "cell_type": "markdown",
   "metadata": {},
   "source": [
    "![](the_numbers.png)"
   ]
  },
  {
   "cell_type": "markdown",
   "metadata": {},
   "source": [
    "## First Way ##"
   ]
  },
  {
   "cell_type": "code",
   "execution_count": 11,
   "metadata": {},
   "outputs": [],
   "source": [
    "cpt = \"16 9 3 15 3 20 6 { 20 8 5 14 21 13 2 5 18 19 13 1 19 15 14 }\""
   ]
  },
  {
   "cell_type": "markdown",
   "metadata": {},
   "source": [
    "Considering the format of the flag is there (The \"{ }\" being present), we can try to map each number to a letter in the alphabet."
   ]
  },
  {
   "cell_type": "code",
   "execution_count": 12,
   "metadata": {},
   "outputs": [],
   "source": [
    "def number_to_letter_map(input_string):\n",
    "    # Dictionary to map numbers to letters\n",
    "    num_to_letter = {str(i): chr(64 + i) for i in range(1, 27)}\n",
    "    \n",
    "    # Split the input string into parts\n",
    "    parts = input_string.split()\n",
    "    \n",
    "    result = []\n",
    "    for part in parts:\n",
    "        # Check if the part is a number between 1 and 26\n",
    "        if part.isdigit() and 1 <= int(part) <= 26:\n",
    "            result.append(num_to_letter[part])\n",
    "        else:\n",
    "            # If not a valid number, keep it as is\n",
    "            result.append(part)\n",
    "    \n",
    "    # Join the result back into a string\n",
    "    return ''.join(result)"
   ]
  },
  {
   "cell_type": "code",
   "execution_count": 13,
   "metadata": {},
   "outputs": [
    {
     "name": "stdout",
     "output_type": "stream",
     "text": [
      "PICOCTF{THENUMBERSMASON}\n"
     ]
    }
   ],
   "source": [
    "plt = number_to_letter_map(cpt)\n",
    "print(plt)"
   ]
  },
  {
   "cell_type": "markdown",
   "metadata": {},
   "source": [
    "We know the answer is correct since the hint tell us \"The flag is in the format PICOCTF{}\", so there is no need to worry about lowercase letters. The function maps A to 1 and Z to 26."
   ]
  },
  {
   "cell_type": "markdown",
   "metadata": {},
   "source": [
    "## Second Way ##"
   ]
  },
  {
   "cell_type": "code",
   "execution_count": 14,
   "metadata": {},
   "outputs": [],
   "source": [
    "cpt = \"16 9 3 15 3 20 6 { 20 8 5 14 21 13 2 5 18 19 13 1 19 15 14 }\""
   ]
  },
  {
   "cell_type": "markdown",
   "metadata": {},
   "source": [
    "Given that the hint tells us the format is PICOCTF, we can map the letters to the numbers, so we dont have to guess which number belongs to which letter.\n",
    "If we consider this is a map in order, we can see that P = 16 and work from there."
   ]
  },
  {
   "cell_type": "code",
   "execution_count": 15,
   "metadata": {},
   "outputs": [],
   "source": [
    "def number_to_letter_with_P_as_16(input_string):\n",
    "    # Define the offset for shifting: 'F' is normally 6, so shift by (16 - 6)\n",
    "    offset = 16 - (ord('P') - ord('A') + 1)  # Shift of 10 to align 'F' with 16\n",
    "    \n",
    "    # Create a dictionary to map numbers 1-26 to letters, starting with F=16\n",
    "    num_to_letter = {}\n",
    "    for i in range(1, 27):\n",
    "        # Apply the offset and wrap around using modulo to stay within 'A' to 'Z' range\n",
    "        shifted_letter = chr(((i + offset - 1) % 26) + 65)  # 65 is ASCII for 'A'\n",
    "        num_to_letter[str(i)] = shifted_letter\n",
    "\n",
    "    # Split the input string into parts (numbers)\n",
    "    parts = input_string.split()\n",
    "    \n",
    "    result = []\n",
    "    for part in parts:\n",
    "        # Check if the part is a number and within the valid range (1 to 26)\n",
    "        if part.isdigit() and 1 <= int(part) <= 26:\n",
    "            result.append(num_to_letter[part])  # Map the number to the shifted letter\n",
    "        else:\n",
    "            # If not a valid number, keep it as is\n",
    "            result.append(part)\n",
    "    \n",
    "    # Join the result back into a string\n",
    "    return ''.join(result)"
   ]
  },
  {
   "cell_type": "code",
   "execution_count": 16,
   "metadata": {},
   "outputs": [
    {
     "name": "stdout",
     "output_type": "stream",
     "text": [
      "PICOCTF{THENUMBERSMASON}\n"
     ]
    }
   ],
   "source": [
    "plt = number_to_letter_with_P_as_16(cpt)\n",
    "print(plt)"
   ]
  },
  {
   "cell_type": "markdown",
   "metadata": {},
   "source": [
    "With this approach, we could map the numbers if they were not in the common order (A to 1 until Z to 26)"
   ]
  },
  {
   "cell_type": "markdown",
   "metadata": {},
   "source": [
    "# C3 #"
   ]
  },
  {
   "cell_type": "markdown",
   "metadata": {},
   "source": [
    "## First Way ##"
   ]
  },
  {
   "cell_type": "code",
   "execution_count": 17,
   "metadata": {},
   "outputs": [],
   "source": [
    "cpt = \"DLSeGAGDgBNJDQJDCFSFnRBIDjgHoDFCFtHDgJpiHtGDmMAQFnRBJKkBAsTMrsPSDDnEFCFtIbEDtDCIbFCFtHTJDKerFldbFObFCFtLBFkBAAAPFnRBJGEkerFlcPgKkImHnIlATJDKbTbFOkdNnsgbnJRMFnRBNAFkBAAAbrcbTKAkOgFpOgFpOpkBAAAAAAAiClFGIPFnRBaKliCgClFGtIBAAAAAAAOgGEkImHnIl\""
   ]
  },
  {
   "cell_type": "markdown",
   "metadata": {},
   "source": [
    "Here we are given the following encoder"
   ]
  },
  {
   "cell_type": "code",
   "execution_count": 18,
   "metadata": {},
   "outputs": [
    {
     "ename": "OSError",
     "evalue": "[Errno 22] Invalid argument: '--f=c:\\\\Users\\\\NICO\\\\AppData\\\\Roaming\\\\jupyter\\\\runtime\\\\kernel-v3de22a01a40633505dac9c0776c005cff3b7c8e7e.json'",
     "output_type": "error",
     "traceback": [
      "\u001b[1;31m---------------------------------------------------------------------------\u001b[0m",
      "\u001b[1;31mOSError\u001b[0m                                   Traceback (most recent call last)",
      "Cell \u001b[1;32mIn[18], line 4\u001b[0m\n\u001b[0;32m      2\u001b[0m chars \u001b[38;5;241m=\u001b[39m \u001b[38;5;124m\"\u001b[39m\u001b[38;5;124m\"\u001b[39m\n\u001b[0;32m      3\u001b[0m \u001b[38;5;28;01mfrom\u001b[39;00m \u001b[38;5;21;01mfileinput\u001b[39;00m \u001b[38;5;28;01mimport\u001b[39;00m \u001b[38;5;28minput\u001b[39m\n\u001b[1;32m----> 4\u001b[0m \u001b[38;5;28;43;01mfor\u001b[39;49;00m\u001b[43m \u001b[49m\u001b[43mline\u001b[49m\u001b[43m \u001b[49m\u001b[38;5;129;43;01min\u001b[39;49;00m\u001b[43m \u001b[49m\u001b[38;5;28;43minput\u001b[39;49m\u001b[43m(\u001b[49m\u001b[43m)\u001b[49m\u001b[43m:\u001b[49m\n\u001b[0;32m      5\u001b[0m \u001b[43m  \u001b[49m\u001b[43mchars\u001b[49m\u001b[43m \u001b[49m\u001b[38;5;241;43m+\u001b[39;49m\u001b[38;5;241;43m=\u001b[39;49m\u001b[43m \u001b[49m\u001b[43mline\u001b[49m\n\u001b[0;32m      7\u001b[0m lookup1 \u001b[38;5;241m=\u001b[39m \u001b[38;5;124m\"\u001b[39m\u001b[38;5;130;01m\\n\u001b[39;00m\u001b[38;5;124m \u001b[39m\u001b[38;5;130;01m\\\"\u001b[39;00m\u001b[38;5;124m#()*+/1:=[]abcdefghijklmnopqrstuvwxyz\u001b[39m\u001b[38;5;124m\"\u001b[39m\n",
      "File \u001b[1;32mc:\\Python311\\Lib\\fileinput.py:251\u001b[0m, in \u001b[0;36mFileInput.__next__\u001b[1;34m(self)\u001b[0m\n\u001b[0;32m    249\u001b[0m \u001b[38;5;28;01mdef\u001b[39;00m \u001b[38;5;21m__next__\u001b[39m(\u001b[38;5;28mself\u001b[39m):\n\u001b[0;32m    250\u001b[0m     \u001b[38;5;28;01mwhile\u001b[39;00m \u001b[38;5;28;01mTrue\u001b[39;00m:\n\u001b[1;32m--> 251\u001b[0m         line \u001b[38;5;241m=\u001b[39m \u001b[38;5;28;43mself\u001b[39;49m\u001b[38;5;241;43m.\u001b[39;49m\u001b[43m_readline\u001b[49m\u001b[43m(\u001b[49m\u001b[43m)\u001b[49m\n\u001b[0;32m    252\u001b[0m         \u001b[38;5;28;01mif\u001b[39;00m line:\n\u001b[0;32m    253\u001b[0m             \u001b[38;5;28mself\u001b[39m\u001b[38;5;241m.\u001b[39m_filelineno \u001b[38;5;241m+\u001b[39m\u001b[38;5;241m=\u001b[39m \u001b[38;5;241m1\u001b[39m\n",
      "File \u001b[1;32mc:\\Python311\\Lib\\fileinput.py:370\u001b[0m, in \u001b[0;36mFileInput._readline\u001b[1;34m(self)\u001b[0m\n\u001b[0;32m    367\u001b[0m                 \u001b[38;5;28mself\u001b[39m\u001b[38;5;241m.\u001b[39m_file \u001b[38;5;241m=\u001b[39m \u001b[38;5;28mself\u001b[39m\u001b[38;5;241m.\u001b[39m_openhook(\n\u001b[0;32m    368\u001b[0m                     \u001b[38;5;28mself\u001b[39m\u001b[38;5;241m.\u001b[39m_filename, \u001b[38;5;28mself\u001b[39m\u001b[38;5;241m.\u001b[39m_mode, encoding\u001b[38;5;241m=\u001b[39m\u001b[38;5;28mself\u001b[39m\u001b[38;5;241m.\u001b[39m_encoding, errors\u001b[38;5;241m=\u001b[39m\u001b[38;5;28mself\u001b[39m\u001b[38;5;241m.\u001b[39m_errors)\n\u001b[0;32m    369\u001b[0m         \u001b[38;5;28;01melse\u001b[39;00m:\n\u001b[1;32m--> 370\u001b[0m             \u001b[38;5;28mself\u001b[39m\u001b[38;5;241m.\u001b[39m_file \u001b[38;5;241m=\u001b[39m \u001b[38;5;28;43mopen\u001b[39;49m\u001b[43m(\u001b[49m\u001b[38;5;28;43mself\u001b[39;49m\u001b[38;5;241;43m.\u001b[39;49m\u001b[43m_filename\u001b[49m\u001b[43m,\u001b[49m\u001b[43m \u001b[49m\u001b[38;5;28;43mself\u001b[39;49m\u001b[38;5;241;43m.\u001b[39;49m\u001b[43m_mode\u001b[49m\u001b[43m,\u001b[49m\u001b[43m \u001b[49m\u001b[43mencoding\u001b[49m\u001b[38;5;241;43m=\u001b[39;49m\u001b[43mencoding\u001b[49m\u001b[43m,\u001b[49m\u001b[43m \u001b[49m\u001b[43merrors\u001b[49m\u001b[38;5;241;43m=\u001b[39;49m\u001b[38;5;28;43mself\u001b[39;49m\u001b[38;5;241;43m.\u001b[39;49m\u001b[43m_errors\u001b[49m\u001b[43m)\u001b[49m\n\u001b[0;32m    371\u001b[0m \u001b[38;5;28mself\u001b[39m\u001b[38;5;241m.\u001b[39m_readline \u001b[38;5;241m=\u001b[39m \u001b[38;5;28mself\u001b[39m\u001b[38;5;241m.\u001b[39m_file\u001b[38;5;241m.\u001b[39mreadline  \u001b[38;5;66;03m# hide FileInput._readline\u001b[39;00m\n\u001b[0;32m    372\u001b[0m \u001b[38;5;28;01mreturn\u001b[39;00m \u001b[38;5;28mself\u001b[39m\u001b[38;5;241m.\u001b[39m_readline()\n",
      "\u001b[1;31mOSError\u001b[0m: [Errno 22] Invalid argument: '--f=c:\\\\Users\\\\NICO\\\\AppData\\\\Roaming\\\\jupyter\\\\runtime\\\\kernel-v3de22a01a40633505dac9c0776c005cff3b7c8e7e.json'"
     ]
    }
   ],
   "source": [
    "import sys\n",
    "chars = \"\"\n",
    "from fileinput import input\n",
    "for line in input():\n",
    "  chars += line\n",
    "\n",
    "lookup1 = \"\\n \\\"#()*+/1:=[]abcdefghijklmnopqrstuvwxyz\"\n",
    "lookup2 = \"ABCDEFGHIJKLMNOPQRSTabcdefghijklmnopqrst\"\n",
    "\n",
    "out = \"\"\n",
    "\n",
    "prev = 0\n",
    "for char in chars:\n",
    "  cur = lookup1.index(char)\n",
    "  out += lookup2[(cur - prev) % 40]\n",
    "  prev = cur\n",
    "\n",
    "sys.stdout.write(out)"
   ]
  },
  {
   "cell_type": "markdown",
   "metadata": {},
   "source": [
    "We create a decipher function that does the opposite of what the cipher function does"
   ]
  },
  {
   "cell_type": "code",
   "execution_count": 52,
   "metadata": {},
   "outputs": [],
   "source": [
    "def decipher_text(encrypted_text):\n",
    "    # Lookup tables as in the original function\n",
    "    lookup1 = \"\\n \\\"#()*+/1:=[]abcdefghijklmnopqrstuvwxyz\"\n",
    "    lookup2 = \"ABCDEFGHIJKLMNOPQRSTabcdefghijklmnopqrst\"\n",
    "    \n",
    "    # Start with the first 'prev' value as 0\n",
    "    prev = 0\n",
    "    decrypted = \"\"\n",
    "\n",
    "    for char in encrypted_text:\n",
    "        # Get the current index of the character from lookup2\n",
    "        cur = lookup2.index(char)\n",
    "        \n",
    "        # Reverse the process to find the original character in lookup1\n",
    "        orig_index = (cur + prev) % 40\n",
    "        decrypted += lookup1[orig_index]\n",
    "        \n",
    "        # Update 'prev' to be the current original index for the next iteration\n",
    "        prev = orig_index\n",
    "\n",
    "    return decrypted"
   ]
  },
  {
   "cell_type": "code",
   "execution_count": 53,
   "metadata": {},
   "outputs": [
    {
     "name": "stdout",
     "output_type": "stream",
     "text": [
      "#asciiorder\n",
      "#fortychars\n",
      "#selfinput\n",
      "#pythontwo\n",
      "\n",
      "chars = \"\"\n",
      "from fileinput import input\n",
      "for line in input():\n",
      "    chars += line\n",
      "b = 1 / 1\n",
      "\n",
      "for i in range(len(chars)):\n",
      "    if i == b * b * b:\n",
      "        print chars[i] #prints\n",
      "        b += 1 / 1\n",
      "\n"
     ]
    }
   ],
   "source": [
    "plt = decipher_text(cpt)\n",
    "print(plt)"
   ]
  },
  {
   "cell_type": "markdown",
   "metadata": {},
   "source": [
    "Creating a decripter gives the following output:\n",
    "\n",
    "```python\n",
    "#asciiorder\n",
    "#fortychars\n",
    "#selfinput\n",
    "#pythontwo\n",
    "\n",
    "chars = \"\"\n",
    "from fileinput import input\n",
    "for line in input():\n",
    "    chars += line\n",
    "    b = 1 / 1\n",
    "\n",
    "for i in range(len(chars)):\n",
    "    if i == b * b * b:\n",
    "        print chars[i] #prints\n",
    "        b += 1 / 1\n",
    "```\n"
   ]
  },
  {
   "cell_type": "markdown",
   "metadata": {},
   "source": [
    "Since the script says \"selfinput\" and \"pythontwo\", we can understand this programm takes itself as a txt and its run on python two. To run it on python three we make some modifications"
   ]
  },
  {
   "cell_type": "code",
   "execution_count": null,
   "metadata": {},
   "outputs": [],
   "source": [
    "chars = \"\"\n",
    "from fileinput import input\n",
    "for line in input():\n",
    "    chars += line\n",
    "b = 1\n",
    "\n",
    "for i in range(len(chars)):\n",
    "    if i == (b * b * b):\n",
    "        print(chars[i], end=\"\")\n",
    "        b += 1\n",
    "\n",
    "print()"
   ]
  },
  {
   "cell_type": "markdown",
   "metadata": {},
   "source": [
    "Then we call the program and give it the same input. We have saved the python2 File as \"C3.txt\" and the decipher code in python 3 as \"decrypt_C3.py\"\n",
    "\n",
    "![](C3_answer.png)\n",
    "\n",
    "As explained in the problem, \"Enclose the flag in our wrapper for submission. If the flag was \"example\" you would submit \"picoCTF{example}\".\" The answer is\n",
    "\n",
    "picoCTF{adlibs}"
   ]
  },
  {
   "cell_type": "markdown",
   "metadata": {},
   "source": [
    "## Second Way ##"
   ]
  },
  {
   "cell_type": "markdown",
   "metadata": {},
   "source": [
    "We can run the script in python2, instead of tryingo to redo the script in python 3. This will help, since converting it to pyhton3 may create mistakes and problems with the decryption. For this, we use the website at https://onecompiler.com/python2"
   ]
  },
  {
   "cell_type": "markdown",
   "metadata": {},
   "source": [
    "STDIN, on the upper right, is the input of the function\n",
    "\n",
    "![](C3_Py2.png)"
   ]
  },
  {
   "cell_type": "markdown",
   "metadata": {},
   "source": [
    "# Custom Encryption #"
   ]
  },
  {
   "cell_type": "markdown",
   "metadata": {},
   "source": [
    "## First Way ##"
   ]
  },
  {
   "cell_type": "markdown",
   "metadata": {},
   "source": [
    "We are given the following information\n",
    "\n",
    "a = 97\n",
    "\n",
    "b = 22\n",
    "\n",
    "cipher is: [151146, 1158786, 1276344, 1360314, 1427490, 1377108, 1074816, 1074816, 386262, 705348, 0, 1393902, 352674, 83970, 1141992, 0, 369468, 1444284, 16794, 1041228, 403056, 453438, 100764, 100764, 285498, 100764, 436644, 856494, 537408, 822906, 436644, 117558, 201528, 285498]\n",
    "\n",
    "\n",
    "\n",
    "Along with the encryption code:"
   ]
  },
  {
   "cell_type": "code",
   "execution_count": null,
   "metadata": {},
   "outputs": [],
   "source": [
    "from random import randint\n",
    "import sys\n",
    "\n",
    "\n",
    "def generator(g, x, p):\n",
    "    return pow(g, x) % p\n",
    "\n",
    "\n",
    "def encrypt(plaintext, key):\n",
    "    cipher = []\n",
    "    for char in plaintext:\n",
    "        cipher.append(((ord(char) * key*311)))\n",
    "    return cipher\n",
    "\n",
    "\n",
    "def is_prime(p):\n",
    "    v = 0\n",
    "    for i in range(2, p + 1):\n",
    "        if p % i == 0:\n",
    "            v = v + 1\n",
    "    if v > 1:\n",
    "        return False\n",
    "    else:\n",
    "        return True\n",
    "\n",
    "\n",
    "def dynamic_xor_encrypt(plaintext, text_key):\n",
    "    cipher_text = \"\"\n",
    "    key_length = len(text_key)\n",
    "    for i, char in enumerate(plaintext[::-1]):\n",
    "        key_char = text_key[i % key_length]\n",
    "        encrypted_char = chr(ord(char) ^ ord(key_char))\n",
    "        cipher_text += encrypted_char\n",
    "    return cipher_text\n",
    "\n",
    "\n",
    "def test(plain_text, text_key):\n",
    "    p = 97\n",
    "    g = 31\n",
    "    if not is_prime(p) and not is_prime(g):\n",
    "        print(\"Enter prime numbers\")\n",
    "        return\n",
    "    a = randint(p-10, p)\n",
    "    b = randint(g-10, g)\n",
    "    print(f\"a = {a}\")\n",
    "    print(f\"b = {b}\")\n",
    "    u = generator(g, a, p)\n",
    "    v = generator(g, b, p)\n",
    "    key = generator(v, a, p)\n",
    "    b_key = generator(u, b, p)\n",
    "    shared_key = None\n",
    "    if key == b_key:\n",
    "        shared_key = key\n",
    "    else:\n",
    "        print(\"Invalid key\")\n",
    "        return\n",
    "    semi_cipher = dynamic_xor_encrypt(plain_text, text_key)\n",
    "    cipher = encrypt(semi_cipher, shared_key)\n",
    "    print(f'cipher is: {cipher}')\n",
    "\n",
    "\n",
    "if __name__ == \"__main__\":\n",
    "    message = sys.argv[1]\n",
    "    test(message, \"trudeau\")\n"
   ]
  },
  {
   "cell_type": "markdown",
   "metadata": {},
   "source": [
    "From this we get the following information. \n",
    "\n",
    "```python\n",
    "a = 97\n",
    "b = 22\n",
    "p = 97\n",
    "g = 31\n",
    "text_key = \"trudeau\"\n",
    "```\n",
    "\n",
    "The plain text first goes through the dynamic_xor_encrypt function and then the encrypt function.\n",
    "\n",
    "We also know that the share key happens when key = b_key\n",
    "\n",
    "To reverse this process, first we reverse the functions of encryption"
   ]
  },
  {
   "cell_type": "code",
   "execution_count": 63,
   "metadata": {},
   "outputs": [],
   "source": [
    "def decrypt(ciphertext, key):\n",
    "    plaintext = []\n",
    "    for num in ciphertext:\n",
    "        # Reverse the multiplication by dividing by (key * 311)\n",
    "        orig_char = chr(num // (key * 311))\n",
    "        plaintext.append(orig_char)\n",
    "    return ''.join(plaintext)"
   ]
  },
  {
   "cell_type": "code",
   "execution_count": 66,
   "metadata": {},
   "outputs": [],
   "source": [
    "def dynamic_xor_decrypt(cipher_text, text_key):\n",
    "    plaintext = \"\"\n",
    "    key_length = len(text_key)\n",
    "    for i, char in enumerate(cipher_text):  # Reverse the cipher_text\n",
    "        key_char = text_key[i % key_length]\n",
    "        decrypted_char = chr(ord(char) ^ ord(key_char))\n",
    "        plaintext += decrypted_char\n",
    "    return plaintext"
   ]
  },
  {
   "cell_type": "markdown",
   "metadata": {},
   "source": [
    "The rest of the functions remain the same\n",
    "\n",
    "Now we add the information we previously find"
   ]
  },
  {
   "cell_type": "code",
   "execution_count": 115,
   "metadata": {},
   "outputs": [],
   "source": [
    "a = 97\n",
    "b = 22\n",
    "p = 97\n",
    "g = 31\n",
    "text_key = \"trudeau\"\n",
    "u = generator(g, a, p)\n",
    "v = generator(g, b, p)\n",
    "key = generator(v, a, p)\n",
    "b_key = generator(u, b, p)\n",
    "shared_key = None\n",
    "if key == b_key:\n",
    "    shared_key = key\n",
    "else:\n",
    "    print(\"Invalid key\")\n",
    "\n",
    "cipher = [151146, 1158786, 1276344, 1360314, 1427490, 1377108, \n",
    "          1074816, 1074816, 386262, 705348, 0, 1393902, 352674, \n",
    "          83970, 1141992, 0, 369468, 1444284, 16794, 1041228, \n",
    "          403056, 453438, 100764, 100764, 285498, 100764, \n",
    "          436644, 856494, 537408, 822906, 436644, 117558, \n",
    "          201528, 285498]"
   ]
  },
  {
   "cell_type": "markdown",
   "metadata": {},
   "source": [
    "We know reverse the order of the following part of the code\n",
    "```python\n",
    "semi_cipher = dynamic_xor_encrypt(plain_text, text_key)\n",
    "    cipher = encrypt(semi_cipher, shared_key)\n",
    "    print(f'cipher is: {cipher}')\n",
    "```"
   ]
  },
  {
   "cell_type": "code",
   "execution_count": 68,
   "metadata": {},
   "outputs": [
    {
     "name": "stdout",
     "output_type": "stream",
     "text": [
      "}7950354e_d6tp0rc2d_motsuc{FTCocip\n"
     ]
    }
   ],
   "source": [
    "semi_plain = decrypt(cipher, shared_key)\n",
    "plain_text = dynamic_xor_decrypt(semi_plain, text_key)\n",
    "print(plain_text)"
   ]
  },
  {
   "cell_type": "markdown",
   "metadata": {},
   "source": [
    "We get a reversed string so we need to reverse it to get the hidden message."
   ]
  },
  {
   "cell_type": "code",
   "execution_count": 69,
   "metadata": {},
   "outputs": [
    {
     "name": "stdout",
     "output_type": "stream",
     "text": [
      "picoCTF{custom_d2cr0pt6d_e4530597}\n"
     ]
    }
   ],
   "source": [
    "plt = plain_text[::-1]\n",
    "print(plt)"
   ]
  },
  {
   "cell_type": "markdown",
   "metadata": {},
   "source": [
    "## Second Way ##"
   ]
  },
  {
   "cell_type": "markdown",
   "metadata": {},
   "source": [
    "Analyzing this part of the code\n",
    "```python\n",
    "def dynamic_xor_encrypt(plaintext, text_key):\n",
    "    cipher_text = \"\"\n",
    "    key_length = len(text_key)\n",
    "    for i, char in enumerate(plaintext[::-1]):\n",
    "        key_char = text_key[i % key_length]\n",
    "        encrypted_char = chr(ord(char) ^ ord(key_char))\n",
    "        cipher_text += encrypted_char\n",
    "    return cipher_text\n",
    "\n",
    "def dynamic_xor_decrypt(cipher_text, text_key):\n",
    "    plaintext = \"\"\n",
    "    key_length = len(text_key)\n",
    "    for i, char in enumerate(cipher_text):  # Reverse the cipher_text\n",
    "        key_char = text_key[i % key_length]\n",
    "        decrypted_char = chr(ord(char) ^ ord(key_char))\n",
    "        plaintext += decrypted_char\n",
    "    return plaintext\n",
    "```\n",
    "We know we can get the ciphertext by doing an XOR of the plaintext and the text_key and we can ge the plaintext by doing an XOR of the ciphertext and the text_key (This works because the inverse of XOR is XOR itself).\n",
    "\n",
    "Meaning, we could get the text_key given the ciphertext and the plaintext. \n",
    "\n",
    "We know part of the plaintext will be \"picoCTF\", se we can obtain the text_key with it.\n",
    "\n",
    "Also, since we know a, b, p and g where used for the creation of the shared_key for the plaintext, we dont need to use this verificacion anymore\n",
    "\n",
    "```python\n",
    "u = generator(g, a, p)\n",
    "v = generator(g, b, p)\n",
    "key = generator(v, a, p)\n",
    "b_key = generator(u, b, p)\n",
    "shared_key = None\n",
    "if key == b_key:\n",
    "    shared_key = key\n",
    "else:\n",
    "    print(\"Invalid key\")\n",
    "```\n",
    "\n",
    "And can just define shared_key as\n",
    "\n",
    "```python\n",
    "u = generator(g, a, p)\n",
    "b_key = generator(u, b, p)\n",
    "shared_key = b_key\n",
    "```\n",
    "\n",
    "or\n",
    "\n",
    "```python\n",
    "shared_key = generator(generator(g, a, p), b, p)\n",
    "```"
   ]
  },
  {
   "cell_type": "code",
   "execution_count": 192,
   "metadata": {},
   "outputs": [],
   "source": [
    "a = 97\n",
    "b = 22\n",
    "p = 97\n",
    "g = 31\n",
    "text_key = \"picoCTF\"\n",
    "shared_key = generator(generator(g, a, p), b, p)\n",
    "\n",
    "# cipher = [856494, 537408, 822906, 436644, 117558, \n",
    "#           201528, 285498]\n",
    "\n",
    "cipher = [285498, 201528, 117558, 436644, 822906, 537408, 856494]"
   ]
  },
  {
   "cell_type": "markdown",
   "metadata": {},
   "source": [
    "Since we had to reverse the plaintext to get the actual plaintext, we know the cipher needs to be in reverse to work, so we only use the last 7 blocks of the cipher and we reverse the order of them."
   ]
  },
  {
   "cell_type": "code",
   "execution_count": 194,
   "metadata": {},
   "outputs": [
    {
     "name": "stdout",
     "output_type": "stream",
     "text": [
      "aedurtu\n"
     ]
    }
   ],
   "source": [
    "def decrypt(ciphertext, key):\n",
    "    plaintext = []\n",
    "    for num in ciphertext:\n",
    "        # Reverse the multiplication by dividing by (key * 311)\n",
    "        orig_char = chr(num // (key * 311))\n",
    "        plaintext.append(orig_char)\n",
    "    return ''.join(plaintext)\n",
    "\n",
    "def dynamic_xor_decrypt(cipher_text, text_key):\n",
    "    plaintext = \"\"\n",
    "    key_length = len(text_key)\n",
    "    for i, char in enumerate(cipher_text):  # Reverse the cipher_text\n",
    "        key_char = text_key[i % key_length]\n",
    "        decrypted_char = chr(ord(char) ^ ord(key_char))\n",
    "        plaintext += decrypted_char\n",
    "    return plaintext\n",
    "\n",
    "semi_plain = decrypt(cipher, shared_key)\n",
    "plain_text = dynamic_xor_decrypt(semi_plain, text_key)\n",
    "print(plain_text)"
   ]
  },
  {
   "cell_type": "markdown",
   "metadata": {},
   "source": [
    "Now we try this key without reversing the order of the plaintext at the end"
   ]
  },
  {
   "cell_type": "code",
   "execution_count": 171,
   "metadata": {},
   "outputs": [],
   "source": [
    "a = 97\n",
    "b = 22\n",
    "p = 97\n",
    "g = 31\n",
    "text_key = \"aedurtu\"\n",
    "shared_key = generator(generator(g, a, p), b, p)\n",
    "\n",
    "cipher = [151146, 1158786, 1276344, 1360314, 1427490, 1377108, \n",
    "          1074816, 1074816, 386262, 705348, 0, 1393902, 352674, \n",
    "          83970, 1141992, 0, 369468, 1444284, 16794, 1041228, \n",
    "          403056, 453438, 100764, 100764, 285498, 100764, \n",
    "          436644, 856494, 537408, 822906, 436644, 117558, \n",
    "          201528, 285498]"
   ]
  },
  {
   "cell_type": "code",
   "execution_count": 172,
   "metadata": {},
   "outputs": [
    {
     "name": "stdout",
     "output_type": "stream",
     "text": [
      "picoCTF{custom_d2cr0pt6d_e4530597}\n"
     ]
    }
   ],
   "source": [
    "def decrypt(cipher, key):\n",
    "    plaintext = \"\"\n",
    "    for number in cipher:\n",
    "        plaintext += chr(number // key // 311)\n",
    "    return plaintext\n",
    "\n",
    "def dynamic_xor_decrypt(cipher, text_key):\n",
    "    decrypted_text = \"\"\n",
    "    key_length = len(text_key)\n",
    "    for i, char in enumerate(cipher[::-1]):\n",
    "        key_char = text_key[i % key_length]\n",
    "        decrypted_char = chr(ord(char) ^ ord(key_char))\n",
    "        decrypted_text += decrypted_char\n",
    "    return decrypted_text\n",
    "\n",
    "semi_plain = decrypt(cipher, shared_key)\n",
    "plain_text = dynamic_xor_decrypt(semi_plain, text_key)\n",
    "print(plain_text)"
   ]
  },
  {
   "cell_type": "markdown",
   "metadata": {},
   "source": [
    "# Rotation #"
   ]
  },
  {
   "cell_type": "markdown",
   "metadata": {},
   "source": [
    "## First Way ##"
   ]
  },
  {
   "cell_type": "code",
   "execution_count": 180,
   "metadata": {},
   "outputs": [],
   "source": [
    "cpt = \"xqkwKBN{z0bib1wv_l3kzgxb3l_555957n3}\""
   ]
  },
  {
   "cell_type": "markdown",
   "metadata": {},
   "source": [
    "The name of the challenge, \"rotation\" hints us to this being a ROT cipher\n",
    "\n",
    "We create a function to decipher this"
   ]
  },
  {
   "cell_type": "code",
   "execution_count": 181,
   "metadata": {},
   "outputs": [],
   "source": [
    "def rot_decrypt(ciphertext, shift):\n",
    "    decrypted = \"\"\n",
    "    for char in ciphertext:\n",
    "        if char.isalpha():\n",
    "            shift_amount = 65 if char.isupper() else 97\n",
    "            decrypted += chr((ord(char) - shift_amount - shift) % 26 + shift_amount)\n",
    "        else:\n",
    "            decrypted += char  # Non-alphabetic characters are unchanged\n",
    "    return decrypted"
   ]
  },
  {
   "cell_type": "code",
   "execution_count": 185,
   "metadata": {},
   "outputs": [
    {
     "name": "stdout",
     "output_type": "stream",
     "text": [
      "Shift 0: xqkwKBN{z0bib1wv_l3kzgxb3l_555957n3}\n",
      "Shift 1: wpjvJAM{y0aha1vu_k3jyfwa3k_555957m3}\n",
      "Shift 2: voiuIZL{x0zgz1ut_j3ixevz3j_555957l3}\n",
      "Shift 3: unhtHYK{w0yfy1ts_i3hwduy3i_555957k3}\n",
      "Shift 4: tmgsGXJ{v0xex1sr_h3gvctx3h_555957j3}\n",
      "Shift 5: slfrFWI{u0wdw1rq_g3fubsw3g_555957i3}\n",
      "Shift 6: rkeqEVH{t0vcv1qp_f3etarv3f_555957h3}\n",
      "Shift 7: qjdpDUG{s0ubu1po_e3dszqu3e_555957g3}\n",
      "Shift 8: picoCTF{r0tat1on_d3crypt3d_555957f3}\n",
      "Shift 9: ohbnBSE{q0szs1nm_c3bqxos3c_555957e3}\n",
      "Shift 10: ngamARD{p0ryr1ml_b3apwnr3b_555957d3}\n",
      "Shift 11: mfzlZQC{o0qxq1lk_a3zovmq3a_555957c3}\n",
      "Shift 12: leykYPB{n0pwp1kj_z3ynulp3z_555957b3}\n",
      "Shift 13: kdxjXOA{m0ovo1ji_y3xmtko3y_555957a3}\n",
      "Shift 14: jcwiWNZ{l0nun1ih_x3wlsjn3x_555957z3}\n",
      "Shift 15: ibvhVMY{k0mtm1hg_w3vkrim3w_555957y3}\n",
      "Shift 16: haugULX{j0lsl1gf_v3ujqhl3v_555957x3}\n",
      "Shift 17: gztfTKW{i0krk1fe_u3tipgk3u_555957w3}\n",
      "Shift 18: fyseSJV{h0jqj1ed_t3shofj3t_555957v3}\n",
      "Shift 19: exrdRIU{g0ipi1dc_s3rgnei3s_555957u3}\n",
      "Shift 20: dwqcQHT{f0hoh1cb_r3qfmdh3r_555957t3}\n",
      "Shift 21: cvpbPGS{e0gng1ba_q3pelcg3q_555957s3}\n",
      "Shift 22: buoaOFR{d0fmf1az_p3odkbf3p_555957r3}\n",
      "Shift 23: atnzNEQ{c0ele1zy_o3ncjae3o_555957q3}\n",
      "Shift 24: zsmyMDP{b0dkd1yx_n3mbizd3n_555957p3}\n",
      "Shift 25: yrlxLCO{a0cjc1xw_m3lahyc3m_555957o3}\n"
     ]
    }
   ],
   "source": [
    "for shift in range(26):\n",
    "    plt = rot_decrypt(cpt, shift)\n",
    "    print(f\"Shift {shift}: {plt}\")"
   ]
  },
  {
   "cell_type": "markdown",
   "metadata": {},
   "source": [
    "We see that shift 8 had the pico flag\n",
    "\n",
    "Shift 8: picoCTF{r0tat1on_d3crypt3d_555957f3}"
   ]
  },
  {
   "cell_type": "markdown",
   "metadata": {},
   "source": [
    "## Second Way ##"
   ]
  },
  {
   "cell_type": "markdown",
   "metadata": {},
   "source": [
    "Knowing the start of the plaintext is picoCTF, and guessing the cipher text was just encryoted by a rotation cipher (considering the start has the same amount of letters as \"picoCTF\" before having \"{\", followed by text and ending with \"}\", which follows the picoCTF flag format), we can map the letter x to p"
   ]
  },
  {
   "cell_type": "code",
   "execution_count": 188,
   "metadata": {},
   "outputs": [
    {
     "data": {
      "text/plain": [
       "8"
      ]
     },
     "execution_count": 188,
     "metadata": {},
     "output_type": "execute_result"
    }
   ],
   "source": [
    "shift = ord('x') - ord('p')\n",
    "shift"
   ]
  },
  {
   "cell_type": "markdown",
   "metadata": {},
   "source": [
    "Given 8 as the shift, we can modify the function and the way its called to get the answer immediately, instead of by brute force"
   ]
  },
  {
   "cell_type": "code",
   "execution_count": 189,
   "metadata": {},
   "outputs": [],
   "source": [
    "def rot_decrypt_8(ciphertext):\n",
    "    decrypted = \"\"\n",
    "    for char in ciphertext:\n",
    "        if char.isalpha():\n",
    "            shift_amount = 65 if char.isupper() else 97\n",
    "            decrypted += chr((ord(char) - shift_amount - 8) % 26 + shift_amount)\n",
    "        else:\n",
    "            decrypted += char  # Non-alphabetic characters are unchanged\n",
    "    return decrypted"
   ]
  },
  {
   "cell_type": "code",
   "execution_count": 190,
   "metadata": {},
   "outputs": [
    {
     "name": "stdout",
     "output_type": "stream",
     "text": [
      "picoCTF{r0tat1on_d3crypt3d_555957f3}\n"
     ]
    }
   ],
   "source": [
    "plt = rot_decrypt_8(cpt)\n",
    "print(plt)"
   ]
  }
 ],
 "metadata": {
  "kernelspec": {
   "display_name": "Python 3",
   "language": "python",
   "name": "python3"
  },
  "language_info": {
   "codemirror_mode": {
    "name": "ipython",
    "version": 3
   },
   "file_extension": ".py",
   "mimetype": "text/x-python",
   "name": "python",
   "nbconvert_exporter": "python",
   "pygments_lexer": "ipython3",
   "version": "3.11.5"
  }
 },
 "nbformat": 4,
 "nbformat_minor": 2
}
